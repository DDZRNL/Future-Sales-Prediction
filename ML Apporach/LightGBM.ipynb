{
 "cells": [
  {
   "cell_type": "code",
   "execution_count": 2,
   "id": "c549b073",
   "metadata": {},
   "outputs": [],
   "source": [
    "import pandas as pd\n",
    "import numpy as np\n",
    "import lightgbm as lgb\n",
    "import shap\n",
    "import gc\n",
    "from plotly.subplots import make_subplots\n",
    "from sklearn.model_selection import GridSearchCV\n",
    "import plotly.graph_objects as go\n",
    "import pickle\n",
    "\n",
    "pd.set_option('display.max_rows', 160)\n",
    "pd.set_option('display.max_columns', 160)\n",
    "pd.set_option('display.max_colwidth', 30)\n",
    "\n",
    "import warnings\n",
    "warnings.filterwarnings(\"ignore\")\n",
    "#dir(pickle)"
   ]
  },
  {
   "cell_type": "code",
   "execution_count": 3,
   "id": "ed5d726e",
   "metadata": {},
   "outputs": [],
   "source": [
    "#data = pd.read_pickle('df_completeMy.pkl')\n",
    "with open('df_completeMy.pkl', \"rb\") as fh:\n",
    "    data = pickle.load(fh)\n",
    "#del data['subtype']\n",
    "\n",
    "X_train = data[data.date_block_num < 33].drop(['item_cnt_month'], axis=1)\n",
    "Y_train = data[data.date_block_num < 33]['item_cnt_month']\n",
    "X_valid = data[data.date_block_num == 33].drop(['item_cnt_month'], axis=1)\n",
    "Y_valid = data[data.date_block_num == 33]['item_cnt_month']\n",
    "X_test = data[data.date_block_num == 34].drop(['item_cnt_month'], axis=1)\n",
    "#free memory\n",
    "del data\n",
    "gc.collect();"
   ]
  },
  {
   "cell_type": "code",
   "execution_count": 4,
   "id": "2a808d0d",
   "metadata": {},
   "outputs": [],
   "source": [
    "# Y_train = Y_train.clip(0, 20)\n",
    "# Y_valid = Y_valid.clip(0, 20)"
   ]
  },
  {
   "cell_type": "code",
   "execution_count": null,
   "id": "b8eadfb9",
   "metadata": {},
   "outputs": [],
   "source": []
  },
  {
   "cell_type": "code",
   "execution_count": null,
   "id": "b6308ee6",
   "metadata": {},
   "outputs": [],
   "source": []
  },
  {
   "cell_type": "code",
   "execution_count": 5,
   "id": "4c21469b",
   "metadata": {},
   "outputs": [],
   "source": [
    "def build_lgb_model(params, X_train, X_val, y_train, y_val):\n",
    "    lgb_train = lgb.Dataset(X_train, y_train)\n",
    "    lgb_val = lgb.Dataset(X_val, y_val)\n",
    "    model = lgb.train(params=params, train_set=lgb_train, valid_sets=(lgb_train, lgb_val), verbose_eval=1000)\n",
    "    #model = lgb.train(params=params, verbose_eval=1000)\n",
    "    return model"
   ]
  },
  {
   "cell_type": "code",
   "execution_count": 12,
   "id": "fa55d7e5",
   "metadata": {},
   "outputs": [
    {
     "name": "stdout",
     "output_type": "stream",
     "text": [
      "[LightGBM] [Warning] Auto-choosing row-wise multi-threading, the overhead of testing was 0.449733 seconds.\n",
      "You can set `force_row_wise=true` to remove the overhead.\n",
      "And if memory is not enough, you can set `force_col_wise=true`.\n",
      "[LightGBM] [Info] Total Bins 12206\n",
      "[LightGBM] [Info] Number of data points in the train set: 6115148, number of used features: 74\n",
      "[LightGBM] [Info] Start training from score 0.292778\n",
      "Training until validation scores don't improve for 30 rounds\n",
      "Early stopping, best iteration is:\n",
      "[161]\ttraining's rmse: 0.769556\tvalid_1's rmse: 0.932361\n"
     ]
    }
   ],
   "source": [
    "#skip this cell if directly loading saved model \n",
    "\n",
    "\n",
    "# params = {\n",
    "#     \"objective\" : \"regression\", \n",
    "#     \"metric\" : \"rmse\", \n",
    "#     'n_estimators':900, \n",
    "#     'early_stopping_rounds':50,\n",
    "#     \"num_leaves\" : 35, \n",
    "#     \"learning_rate\" : 0.05,   # 0.1\n",
    "#     \"bagging_fraction\" : 0.3,\n",
    "#     \"feature_fraction\" : 0.5, \n",
    "#     \"bagging_seed\" : 0,\n",
    "    \n",
    "#     'max_depth': 13,  \n",
    "#     'min_child_weight': 0.002, \n",
    "#     'min_child_sample': 18,\n",
    "#     'subsample': 0.8,\n",
    "#     'colsample_bytree':0.8,\n",
    "#     'reg_alpha': 0.03,\n",
    "#     'reg_lambda': 0.03\n",
    "# }\n",
    "params = {\n",
    "    'objective': 'rmse',\n",
    "    'metric': 'rmse',\n",
    "    'num_leaves': 1023,\n",
    "    'min_data_in_leaf':10,\n",
    "    'feature_fraction':0.7,\n",
    "    'learning_rate': 0.01,  #0.01\n",
    "    'num_rounds': 1000,    #1000\n",
    "    'early_stopping_rounds': 30,\n",
    "    'seed': 1\n",
    "}\n",
    "\n",
    "#designating the categorical features which should be focused on\n",
    "#cat_features = ['category_id','month','shop_id','shop_city']\n",
    "\n",
    "lgb_model = build_lgb_model(params, X_train, X_valid, Y_train, Y_valid)\n",
    "\n",
    "# #save model for later use\n",
    "# lgb_model.save_model('initial_lgb_model.txt')\n",
    "Y_test = lgb_model.predict(X_test).clip(0, 20)"
   ]
  },
  {
   "cell_type": "code",
   "execution_count": 13,
   "id": "3e8f001b",
   "metadata": {},
   "outputs": [],
   "source": [
    "submission = pd.read_csv('sample_submission.csv')\n",
    "submission['item_cnt_month'] =lgb_model.predict(X_test).clip(0,20)\n",
    "submission[['ID', 'item_cnt_month']].to_csv('lightGBM_submission.csv', index=False)"
   ]
  },
  {
   "cell_type": "code",
   "execution_count": null,
   "id": "8698d675",
   "metadata": {},
   "outputs": [],
   "source": []
  }
 ],
 "metadata": {
  "kernelspec": {
   "display_name": "Python 3",
   "language": "python",
   "name": "python3"
  },
  "language_info": {
   "codemirror_mode": {
    "name": "ipython",
    "version": 3
   },
   "file_extension": ".py",
   "mimetype": "text/x-python",
   "name": "python",
   "nbconvert_exporter": "python",
   "pygments_lexer": "ipython3",
   "version": "3.8.8"
  }
 },
 "nbformat": 4,
 "nbformat_minor": 5
}
