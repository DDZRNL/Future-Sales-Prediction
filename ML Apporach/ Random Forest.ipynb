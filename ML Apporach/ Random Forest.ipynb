{
 "cells": [
  {
   "cell_type": "markdown",
   "metadata": {},
   "source": [
    "# 1. Radom Forest"
   ]
  },
  {
   "cell_type": "code",
   "execution_count": 1,
   "metadata": {},
   "outputs": [],
   "source": [
    "from sklearn.ensemble import RandomForestRegressor\n",
    "import time\n",
    "import pickle\n",
    "import pandas as pd\n",
    "import numpy as np\n",
    "from xgboost import XGBRegressor\n",
    "import shap\n",
    "import gc\n",
    "from plotly.subplots import make_subplots\n",
    "import plotly.graph_objects as go\n",
    "from matplotlib.pylab import rcParams\n",
    "rcParams['figure.figsize'] = 12, 4\n",
    "\n",
    "pd.set_option('display.max_rows', 160)\n",
    "pd.set_option('display.max_columns', 160)\n",
    "pd.set_option('display.max_colwidth', 30)\n",
    "\n",
    "import warnings\n",
    "warnings.filterwarnings(\"ignore\")"
   ]
  },
  {
   "cell_type": "code",
   "execution_count": 2,
   "metadata": {},
   "outputs": [],
   "source": [
    "data = pd.read_pickle('df_completeMy.pkl')\n",
    "#del data['subtype']\n",
    "\n",
    "X_train = data[data.date_block_num < 33].drop(['item_cnt_month'], axis=1)\n",
    "Y_train = data[data.date_block_num < 33]['item_cnt_month']\n",
    "X_valid = data[data.date_block_num == 33].drop(['item_cnt_month'], axis=1)\n",
    "Y_valid = data[data.date_block_num == 33]['item_cnt_month']\n",
    "X_test = data[data.date_block_num == 34].drop(['item_cnt_month'], axis=1)\n",
    "#free memory\n",
    "del data\n",
    "gc.collect();"
   ]
  },
  {
   "cell_type": "code",
   "execution_count": 5,
   "metadata": {},
   "outputs": [
    {
     "data": {
      "text/plain": [
       "RandomForestRegressor(min_samples_leaf=15, n_estimators=60, n_jobs=-1,\n",
       "                      random_state=0)"
      ]
     },
     "execution_count": 5,
     "metadata": {},
     "output_type": "execute_result"
    }
   ],
   "source": [
    "# params = {\n",
    "#     'n_estimators': [10, 20, 40, 80, 100],\n",
    "#     'criterion': ['gini', 'entropy'],\n",
    "#     'max_depth': [2, 4, 6, 8, 10],\n",
    "#     'bootstrap': [True, False],\n",
    "# #     'min_samples_leaf':[10, 20, 40, 100],\n",
    "# #     'min_samples_split':[10, 20, 40, 100],\n",
    "# #     'max_features':['auto', 'sqrt', 'log2'],\n",
    "# }\n",
    "# estimator=RandomForestClassifier()\n",
    "# rf_model = GridSearchCV(estimator=estimator, param_grid=params\n",
    "#                             , scoring='neg_mean_squared_error', cv=3, verbose=1)\n",
    "rf_model = RandomForestRegressor(n_estimators=60,\n",
    "                          min_samples_leaf=15,\n",
    "                          n_jobs=-1,\n",
    "                          random_state=0)\n",
    "rf_model.fit(X_train, Y_train)"
   ]
  },
  {
   "cell_type": "code",
   "execution_count": 7,
   "metadata": {},
   "outputs": [],
   "source": [
    "submission = pd.read_csv('./sample_submission.csv')\n",
    "submission['item_cnt_month'] = rf_model.predict(X_test).clip(0,20)\n",
    "submission[['ID', 'item_cnt_month']].to_csv('initial_rf_submission.csv', index=False)"
   ]
  }
 ],
 "metadata": {
  "kernelspec": {
   "display_name": "Python 3",
   "language": "python",
   "name": "python3"
  },
  "language_info": {
   "codemirror_mode": {
    "name": "ipython",
    "version": 3
   },
   "file_extension": ".py",
   "mimetype": "text/x-python",
   "name": "python",
   "nbconvert_exporter": "python",
   "pygments_lexer": "ipython3",
   "version": "3.7.5"
  }
 },
 "nbformat": 4,
 "nbformat_minor": 4
}
