{
 "cells": [
  {
   "cell_type": "markdown",
   "metadata": {},
   "source": [
    "# 2. LinearRegression"
   ]
  },
  {
   "cell_type": "code",
   "execution_count": 26,
   "metadata": {},
   "outputs": [],
   "source": [
    "from sklearn.linear_model import LinearRegression"
   ]
  },
  {
   "cell_type": "code",
   "execution_count": 27,
   "metadata": {},
   "outputs": [],
   "source": [
    "def build_linear_model(X_train, X_val, y_train, y_val):\n",
    "    model = LinearRegression().fit(X_train, y_train)\n",
    "    return model"
   ]
  },
  {
   "cell_type": "code",
   "execution_count": 28,
   "metadata": {},
   "outputs": [
    {
     "name": "stdout",
     "output_type": "stream",
     "text": [
      "Fitting 3 folds for each of 8 candidates, totalling 24 fits\n"
     ]
    },
    {
     "data": {
      "text/plain": [
       "GridSearchCV(cv=3, estimator=LinearRegression(),\n",
       "             param_grid={'copy_X': [True, False],\n",
       "                         'fit_intercept': [True, False],\n",
       "                         'normalize': [True, False]},\n",
       "             scoring='neg_mean_squared_error', verbose=1)"
      ]
     },
     "execution_count": 28,
     "metadata": {},
     "output_type": "execute_result"
    }
   ],
   "source": [
    "# #designating the categorical features which should be focused on\n",
    "# cat_features = ['category_id','month','shop_id','shop_city']\n",
    "params = {\n",
    "    'fit_intercept': [True, False],\n",
    "    'normalize': [True, False],\n",
    "    'copy_X': [True, False],\n",
    "}\n",
    "estimator=LinearRegression()\n",
    "linear_model = GridSearchCV(estimator=estimator, param_grid=params\n",
    "                            , scoring='neg_mean_squared_error', cv=3, verbose=1)\n",
    "linear_model.fit(X_train, y_train)"
   ]
  },
  {
   "cell_type": "code",
   "execution_count": 29,
   "metadata": {
    "scrolled": true
   },
   "outputs": [
    {
     "name": "stdout",
     "output_type": "stream",
     "text": [
      "best_params_ {'copy_X': True, 'fit_intercept': True, 'normalize': False}\n",
      "best_score_ -0.8581079641977946\n"
     ]
    }
   ],
   "source": [
    "print(\"best_params_\", linear_model.best_params_)\n",
    "print(\"best_score_\", linear_model.best_score_)"
   ]
  },
  {
   "cell_type": "code",
   "execution_count": null,
   "metadata": {},
   "outputs": [],
   "source": [
    "# y_linear_pred = linear_model.predict(X_train)\n",
    "# mean_squared_error(y_train, y_linear_pred)"
   ]
  },
  {
   "cell_type": "code",
   "execution_count": 30,
   "metadata": {},
   "outputs": [],
   "source": [
    "submission = pd.read_csv('./sample_submission.csv')\n",
    "submission['item_cnt_month'] = linear_model.predict(X_test).clip(0,20)\n",
    "submission[['ID', 'item_cnt_month']].to_csv('initial_linear_submission.csv', index=False)"
   ]
  },
  {
   "cell_type": "code",
   "execution_count": null,
   "metadata": {},
   "outputs": [],
   "source": [
    "# 2. LinearRegression\n",
    "\n",
    "from sklearn.linear_model import LinearRegression\n",
    "\n",
    "def build_linear_model(X_train, X_val, y_train, y_val):\n",
    "    model = LinearRegression().fit(X_train, y_train)\n",
    "    return model\n",
    "\n",
    "# #designating the categorical features which should be focused on\n",
    "# cat_features = ['category_id','month','shop_id','shop_city']\n",
    "params = {\n",
    "    'fit_intercept': [True, False],\n",
    "    'normalize': [True, False],\n",
    "    'copy_X': [True, False],\n",
    "}\n",
    "estimator=LinearRegression()\n",
    "linear_model = GridSearchCV(estimator=estimator, param_grid=params\n",
    "                            , scoring='neg_mean_squared_error', cv=3, verbose=1)\n",
    "linear_model.fit(X_train, y_train)\n",
    "\n",
    "print(\"best_params_\", linear_model.best_params_)\n",
    "print(\"best_score_\", linear_model.best_score_)\n",
    "\n",
    "# y_linear_pred = linear_model.predict(X_train)\n",
    "# mean_squared_error(y_train, y_linear_pred)\n",
    "\n",
    "submission = pd.read_csv('./sample_submission.csv')\n",
    "submission['item_cnt_month'] = linear_model.predict(X_test).clip(0,20)\n",
    "submission[['ID', 'item_cnt_month']].to_csv('initial_linear_submission.csv', index=False)"
   ]
  }
 ],
 "metadata": {
  "kernelspec": {
   "display_name": "Python 3",
   "language": "python",
   "name": "python3"
  },
  "language_info": {
   "codemirror_mode": {
    "name": "ipython",
    "version": 3
   },
   "file_extension": ".py",
   "mimetype": "text/x-python",
   "name": "python",
   "nbconvert_exporter": "python",
   "pygments_lexer": "ipython3",
   "version": "3.7.5"
  }
 },
 "nbformat": 4,
 "nbformat_minor": 4
}
