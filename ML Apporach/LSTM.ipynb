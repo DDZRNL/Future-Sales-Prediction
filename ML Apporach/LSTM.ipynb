{
 "cells": [
  {
   "cell_type": "code",
   "execution_count": 1,
   "id": "d9c27b34",
   "metadata": {},
   "outputs": [],
   "source": [
    "import pandas as pd\n",
    "import numpy as np\n",
    "import shap\n",
    "import gc\n",
    "from plotly.subplots import make_subplots\n",
    "from sklearn.model_selection import GridSearchCV\n",
    "import plotly.graph_objects as go\n",
    "import pickle\n",
    "\n",
    "pd.set_option('display.max_rows', 160)\n",
    "pd.set_option('display.max_columns', 160)\n",
    "pd.set_option('display.max_colwidth', 30)\n",
    "\n",
    "import warnings\n",
    "warnings.filterwarnings(\"ignore\")\n",
    "\n",
    "import random\n",
    "\n",
    "# from tensorflow.python.keras.models import Sequential, model_from_json\n",
    "# from tensorflow.python.keras.layers import Dense, LSTM, Dropout\n",
    "# from tensorflow.python.keras import optimizers\n",
    "from tensorflow.keras.models import Sequential, model_from_json\n",
    "from tensorflow.keras.layers import Dense, LSTM, Dropout\n",
    "from tensorflow.keras import optimizers\n",
    "#from tensorflow.python.keras.optimizers import adam"
   ]
  },
  {
   "cell_type": "code",
   "execution_count": 2,
   "id": "e71cd21b",
   "metadata": {},
   "outputs": [],
   "source": [
    "import tensorflow as tf"
   ]
  },
  {
   "cell_type": "code",
   "execution_count": 3,
   "id": "b2f0376a",
   "metadata": {},
   "outputs": [
    {
     "name": "stdout",
     "output_type": "stream",
     "text": [
      "Num GPUs Available:  0\n"
     ]
    }
   ],
   "source": [
    "print(\"Num GPUs Available: \", len(tf.config.list_physical_devices('GPU')))"
   ]
  },
  {
   "cell_type": "code",
   "execution_count": 4,
   "id": "1b50a8e3",
   "metadata": {},
   "outputs": [],
   "source": [
    "#data = pd.read_pickle('df_completeMy.pkl')\n",
    "with open('df_completeMy.pkl', \"rb\") as fh:\n",
    "    data = pickle.load(fh)\n",
    "#del data['subtype']\n",
    "\n",
    "X_train = data[data.date_block_num < 33].drop(['item_cnt_month'], axis=1)\n",
    "Y_train = data[data.date_block_num < 33]['item_cnt_month']\n",
    "X_valid = data[data.date_block_num == 33].drop(['item_cnt_month'], axis=1)\n",
    "Y_valid = data[data.date_block_num == 33]['item_cnt_month']\n",
    "X_test = data[data.date_block_num == 34].drop(['item_cnt_month'], axis=1)\n",
    "#free memory\n",
    "del data\n",
    "gc.collect();"
   ]
  },
  {
   "cell_type": "code",
   "execution_count": 5,
   "id": "8e3a8799",
   "metadata": {},
   "outputs": [
    {
     "data": {
      "text/plain": [
       "(6115148, 74)"
      ]
     },
     "execution_count": 5,
     "metadata": {},
     "output_type": "execute_result"
    }
   ],
   "source": [
    "X_train.shape"
   ]
  },
  {
   "cell_type": "code",
   "execution_count": 6,
   "id": "a9228847",
   "metadata": {},
   "outputs": [
    {
     "data": {
      "text/plain": [
       "(6115148,)"
      ]
     },
     "execution_count": 6,
     "metadata": {},
     "output_type": "execute_result"
    }
   ],
   "source": [
    "Y_train.shape"
   ]
  },
  {
   "cell_type": "code",
   "execution_count": 7,
   "id": "9c64fdf1",
   "metadata": {},
   "outputs": [],
   "source": [
    "X_train = X_train.values.reshape((X_train.shape[0], X_train.shape[1], 1))\n",
    "X_valid = X_valid.values.reshape((X_valid.shape[0], X_valid.shape[1], 1))"
   ]
  },
  {
   "cell_type": "code",
   "execution_count": 8,
   "id": "35d26616",
   "metadata": {},
   "outputs": [
    {
     "name": "stdout",
     "output_type": "stream",
     "text": [
      "Train set reshaped (6115148, 74, 1)\n",
      "Validation set reshaped (238172, 74, 1)\n"
     ]
    }
   ],
   "source": [
    "print(\"Train set reshaped\", X_train.shape)\n",
    "print(\"Validation set reshaped\", X_valid.shape)"
   ]
  },
  {
   "cell_type": "code",
   "execution_count": null,
   "id": "c889ab5b",
   "metadata": {},
   "outputs": [],
   "source": []
  },
  {
   "cell_type": "code",
   "execution_count": 10,
   "id": "dfd9c70b",
   "metadata": {},
   "outputs": [
    {
     "name": "stdout",
     "output_type": "stream",
     "text": [
      "Model: \"sequential_1\"\n",
      "_________________________________________________________________\n",
      "Layer (type)                 Output Shape              Param #   \n",
      "=================================================================\n",
      "lstm_1 (LSTM)                (None, 64)                16896     \n",
      "_________________________________________________________________\n",
      "dropout_1 (Dropout)          (None, 64)                0         \n",
      "_________________________________________________________________\n",
      "dense_1 (Dense)              (None, 1)                 65        \n",
      "=================================================================\n",
      "Total params: 16,961\n",
      "Trainable params: 16,961\n",
      "Non-trainable params: 0\n",
      "_________________________________________________________________\n"
     ]
    }
   ],
   "source": [
    "### Create LSTM\n",
    "serie_size =  X_train.shape[1] # 12\n",
    "n_features =  X_train.shape[2] # 1\n",
    "\n",
    "epochs = 20\n",
    "batch = 128\n",
    "lr = 0.0001\n",
    "# our defining our model \n",
    "my_model = Sequential()\n",
    "my_model.add(LSTM(units = 64,input_shape = (33,1)))\n",
    "my_model.add(Dropout(0.4))\n",
    "my_model.add(Dense(1))\n",
    "\n",
    "my_model.compile(loss = 'mse',optimizer = 'adam', metrics = ['mean_squared_error'])\n",
    "my_model.summary()\n",
    "\n",
    "adam = optimizers.Adam(lr)\n",
    "my_model.compile(loss='mse', optimizer=adam)"
   ]
  },
  {
   "cell_type": "code",
   "execution_count": 12,
   "id": "95eb30b1",
   "metadata": {
    "scrolled": true
   },
   "outputs": [
    {
     "name": "stdout",
     "output_type": "stream",
     "text": [
      "WARNING:tensorflow:From C:\\Users\\11737\\AppData\\Roaming\\Python\\Python38\\site-packages\\tensorflow\\python\\ops\\array_ops.py:5069: calling gather (from tensorflow.python.ops.array_ops) with validate_indices is deprecated and will be removed in a future version.\n",
      "Instructions for updating:\n",
      "The `validate_indices` argument has no effect. Indices are always validated on CPU and never validated on GPU.\n",
      "Epoch 1/10\n",
      "WARNING:tensorflow:Model was constructed with shape (None, 33, 1) for input KerasTensor(type_spec=TensorSpec(shape=(None, 33, 1), dtype=tf.float32, name='lstm_1_input'), name='lstm_1_input', description=\"created by layer 'lstm_1_input'\"), but it was called on an input with incompatible shape (None, 74, 1).\n",
      "WARNING:tensorflow:Model was constructed with shape (None, 33, 1) for input KerasTensor(type_spec=TensorSpec(shape=(None, 33, 1), dtype=tf.float32, name='lstm_1_input'), name='lstm_1_input', description=\"created by layer 'lstm_1_input'\"), but it was called on an input with incompatible shape (None, 74, 1).\n",
      "1493/1493 [==============================] - 1422s 952ms/step - loss: 1.2065\n",
      "Epoch 2/10\n",
      "1493/1493 [==============================] - 1329s 890ms/step - loss: 0.9727\n",
      "Epoch 3/10\n",
      "1493/1493 [==============================] - 1431s 959ms/step - loss: 0.9409\n",
      "Epoch 4/10\n",
      "1493/1493 [==============================] - 1490s 998ms/step - loss: 0.9241\n",
      "Epoch 5/10\n",
      "1493/1493 [==============================] - 31653s 21s/step - loss: 0.9105\n",
      "Epoch 6/10\n",
      "1493/1493 [==============================] - 1612s 1s/step - loss: 0.8964\n",
      "Epoch 7/10\n",
      "1493/1493 [==============================] - 1499s 1s/step - loss: 0.8860\n",
      "Epoch 8/10\n",
      "1493/1493 [==============================] - 2143s 1s/step - loss: 0.8793\n",
      "Epoch 9/10\n",
      "1493/1493 [==============================] - 1578s 1s/step - loss: 0.8730\n",
      "Epoch 10/10\n",
      "1493/1493 [==============================] - 3341s 2s/step - loss: 0.8682\n"
     ]
    },
    {
     "data": {
      "text/plain": [
       "<keras.callbacks.History at 0x1ba1eff2250>"
      ]
     },
     "execution_count": 12,
     "metadata": {},
     "output_type": "execute_result"
    }
   ],
   "source": [
    "# lstm_history = lstm_model.fit(X_train, Y_train, \n",
    "#                               validation_data=(X_valid, Y_valid), \n",
    "#                               batch_size=batch, \n",
    "#                               epochs=epochs, \n",
    "#                               verbose=2)\n",
    "my_model.fit(X_train,Y_train,batch_size = 4096,epochs = 10)"
   ]
  },
  {
   "cell_type": "code",
   "execution_count": null,
   "id": "1ab53f96",
   "metadata": {},
   "outputs": [],
   "source": []
  },
  {
   "cell_type": "code",
   "execution_count": null,
   "id": "5551aeaa",
   "metadata": {},
   "outputs": [],
   "source": []
  },
  {
   "cell_type": "code",
   "execution_count": 13,
   "id": "aec7fee1",
   "metadata": {},
   "outputs": [
    {
     "name": "stdout",
     "output_type": "stream",
     "text": [
      "(214200, 74, 1)\n"
     ]
    }
   ],
   "source": [
    "X_test_reshaped = X_test.values.reshape((X_test.shape[0], X_test.shape[1], 1))\n",
    "print(X_test_reshaped.shape)"
   ]
  },
  {
   "cell_type": "code",
   "execution_count": 14,
   "id": "e544872f",
   "metadata": {},
   "outputs": [
    {
     "name": "stdout",
     "output_type": "stream",
     "text": [
      "WARNING:tensorflow:Model was constructed with shape (None, 33, 1) for input KerasTensor(type_spec=TensorSpec(shape=(None, 33, 1), dtype=tf.float32, name='lstm_1_input'), name='lstm_1_input', description=\"created by layer 'lstm_1_input'\"), but it was called on an input with incompatible shape (None, 74, 1).\n"
     ]
    }
   ],
   "source": [
    "\n",
    "submission = pd.read_csv('sample_submission.csv')\n",
    "submission['item_cnt_month'] =my_model.predict(X_test_reshaped).clip(0,20)\n",
    "submission[['ID', 'item_cnt_month']].to_csv('LSTM2_submission.csv', index=False)"
   ]
  },
  {
   "cell_type": "code",
   "execution_count": null,
   "id": "b49fcdb1",
   "metadata": {},
   "outputs": [],
   "source": []
  }
 ],
 "metadata": {
  "kernelspec": {
   "display_name": "Python 3",
   "language": "python",
   "name": "python3"
  },
  "language_info": {
   "codemirror_mode": {
    "name": "ipython",
    "version": 3
   },
   "file_extension": ".py",
   "mimetype": "text/x-python",
   "name": "python",
   "nbconvert_exporter": "python",
   "pygments_lexer": "ipython3",
   "version": "3.8.8"
  }
 },
 "nbformat": 4,
 "nbformat_minor": 5
}
