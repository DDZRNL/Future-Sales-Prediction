{
 "cells": [
  {
   "cell_type": "code",
   "execution_count": 1,
   "id": "00136a88",
   "metadata": {},
   "outputs": [],
   "source": [
    "import pandas as pd\n",
    "from sklearn.ensemble import AdaBoostRegressor\n",
    "from sklearn.tree import DecisionTreeRegressor\n",
    "from sklearn.model_selection import GridSearchCV\n",
    "from sklearn.linear_model import BayesianRidge\n",
    "import gc"
   ]
  },
  {
   "cell_type": "code",
   "execution_count": 2,
   "id": "d2e8b9db",
   "metadata": {},
   "outputs": [],
   "source": [
    "df = pd.read_pickle(\"df_completeMy.pkl\")"
   ]
  },
  {
   "cell_type": "code",
   "execution_count": 3,
   "id": "060d97b5",
   "metadata": {},
   "outputs": [
    {
     "data": {
      "text/plain": [
       "<bound method Series.unique of 4488710     12\n",
       "4488711     12\n",
       "4488712     12\n",
       "4488713     12\n",
       "4488714     12\n",
       "            ..\n",
       "11056225    34\n",
       "11056226    34\n",
       "11056227    34\n",
       "11056228    34\n",
       "11056229    34\n",
       "Name: date_block_num, Length: 6567520, dtype: int8>"
      ]
     },
     "execution_count": 3,
     "metadata": {},
     "output_type": "execute_result"
    }
   ],
   "source": [
    "df['date_block_num'].unique"
   ]
  },
  {
   "cell_type": "code",
   "execution_count": 3,
   "id": "879df605",
   "metadata": {},
   "outputs": [
    {
     "data": {
      "text/plain": [
       "0"
      ]
     },
     "execution_count": 3,
     "metadata": {},
     "output_type": "execute_result"
    }
   ],
   "source": [
    "X_train = df[~df.date_block_num.isin([34])]\n",
    "y_train = X_train['item_cnt_month']\n",
    "del X_train['item_cnt_month']\n",
    "\n",
    "#X_val = df[df['date_block_num']==33]\n",
    "#y_val = X_val['item_cnt_month']\n",
    "#del X_val['item_cnt_month']\n",
    "\n",
    "X_test = df[df['date_block_num']==34].drop(columns='item_cnt_month')\n",
    "X_test = X_test.reset_index()\n",
    "del X_test['index']\n",
    "\n",
    "del df\n",
    "gc.collect()\n"
   ]
  },
  {
   "cell_type": "code",
   "execution_count": null,
   "id": "7bc7c491",
   "metadata": {},
   "outputs": [],
   "source": [
    "#untuned AdaBoost\n",
    "abr = AdaBoostRegressor(base_estimator=DecisionTreeRegressor(min_samples_leaf = 5), n_estimators=100, learning_rate=0.01 , random_state=0)\n",
    "abr.fit(X_train, y_train)\n",
    "submission = pd.read_csv('sample_submission.csv')\n",
    "submission['item_cnt_month'] = abr.predict(X_test).clip(0,20)\n",
    "submission[['ID', 'item_cnt_month']].to_csv('ada_tuning2_submission.csv', index=False)"
   ]
  },
  {
   "cell_type": "code",
   "execution_count": null,
   "id": "f076d494",
   "metadata": {},
   "outputs": [],
   "source": [
    "#AdaBoost Hyperparameters Tuning\n",
    "abr = AdaBoostRegressor(base_estimator=DecisionTreeRegressor())\n",
    "\n",
    "parameters = {'base_estimator__max_depth':[2,6,10],#i for i in range(2,11,2)],\n",
    "              'base_estimator__min_samples_leaf':[5,10],\n",
    "              'n_estimators':[10,50,100,250],\n",
    "              'learning_rate':[0.001,0.01,0.1]}\n",
    "\n",
    "clf = GridSearchCV(abr, parameters,scoring='neg_root_mean_squared_error',n_jobs=-1, return_train_score = True)\n",
    "clf.fit(X_train,y_train)\n",
    "print('best_params:', clf.best_params_)"
   ]
  },
  {
   "cell_type": "code",
   "execution_count": null,
   "id": "b1cec5ca",
   "metadata": {},
   "outputs": [],
   "source": [
    "#AdaBoost Tuned\n",
    "DTR = DecisionTreeRegressor(max_depth = clf.best_params_['base_estimator__max_depth'], min_samples_leaf = clf.best_params_['base_estimator__min_samples_leaf'])\n",
    "abr = AdaBoostRegressor(base_estimator = DTR, n_estimators=clf.best_params_['n_estimators'], learning_rate= clf.best_params_['learning_rate'], random_state=0)\n",
    "abr.fit(X_train, y_train)\n",
    "submission = pd.read_csv('sample_submission.csv')\n",
    "submission['item_cnt_month'] = abr.predict(X_test).clip(0,20)\n",
    "submission[['ID', 'item_cnt_month']].to_csv('tuned_submission.csv', index=False)"
   ]
  },
  {
   "cell_type": "code",
   "execution_count": 5,
   "id": "2496fe61",
   "metadata": {},
   "outputs": [],
   "source": [
    "#Untuned BayesianRidge\n",
    "byr = BayesianRidge()\n",
    "byr.fit(X_train,y_train)\n",
    "y_pred_non_tuning = byr.predict(X_test)\n",
    "\n",
    "byr = BayesianRidge()\n",
    "byr.fit(X_train,y_train)\n",
    "submission = pd.read_csv('sample_submission.csv')\n",
    "submission['item_cnt_month'] = byr.predict(X_test).clip(0,20)\n",
    "submission[['ID', 'item_cnt_month']].to_csv('nt_byr_submission.csv', index=False)\n"
   ]
  },
  {
   "cell_type": "code",
   "execution_count": null,
   "id": "c018f564",
   "metadata": {},
   "outputs": [],
   "source": [
    "#BayesianRidge Hyperparameters Tuning\n",
    "print(\"hyperparameter tuning\")\n",
    "\n",
    "bay_params = {'alpha_init':[1, 1.1, 1.2, 1.3, 1.4, 1.5, 1.9], 'lambda_init': [1e-1, 1e-2, 1e-3, 1e-4, 1e-5, 1e-6, 1e-9]}\n",
    "a = GridSearchCV(estimator=BayesianRidge(), param_grid = bay_params, cv = 3, n_jobs=-1) \n",
    "a.fit(X_train,y_train)\n",
    "\n",
    "print(a.best_params_)"
   ]
  },
  {
   "cell_type": "code",
   "execution_count": null,
   "id": "12431017",
   "metadata": {},
   "outputs": [],
   "source": [
    "#BayesianRidge Hyperparameters Tuned\n",
    "byr = BayesianRidge(alpha_init = a.best_params_['alpha_init'], lambda_init = a.best_params_['lambda_init'])\n",
    "byr.fit(X_train,y_train)\n",
    "y_pred_non_tuning = byr.predict(X_test)\n",
    "submission['item_cnt_month'] = byr.predict(X_test).clip(0,20)\n",
    "submission[['ID', 'item_cnt_month']].to_csv('byr_submission.csv', index=False)"
   ]
  },
  {
   "cell_type": "code",
   "execution_count": null,
   "id": "f280c67d",
   "metadata": {},
   "outputs": [],
   "source": []
  }
 ],
 "metadata": {
  "kernelspec": {
   "display_name": "Python 3",
   "language": "python",
   "name": "python3"
  },
  "language_info": {
   "codemirror_mode": {
    "name": "ipython",
    "version": 3
   },
   "file_extension": ".py",
   "mimetype": "text/x-python",
   "name": "python",
   "nbconvert_exporter": "python",
   "pygments_lexer": "ipython3",
   "version": "3.8.8"
  }
 },
 "nbformat": 4,
 "nbformat_minor": 5
}
