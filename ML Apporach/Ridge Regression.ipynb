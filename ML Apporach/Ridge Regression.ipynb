{
 "cells": [
  {
   "cell_type": "markdown",
   "metadata": {},
   "source": [
    "# 3. Ridge Regression"
   ]
  },
  {
   "cell_type": "code",
   "execution_count": 12,
   "metadata": {},
   "outputs": [],
   "source": [
    "from sklearn.linear_model import Ridge"
   ]
  },
  {
   "cell_type": "code",
   "execution_count": 13,
   "metadata": {},
   "outputs": [
    {
     "name": "stdout",
     "output_type": "stream",
     "text": [
      "Fitting 3 folds for each of 72 candidates, totalling 216 fits\n"
     ]
    },
    {
     "data": {
      "text/plain": [
       "GridSearchCV(cv=3, estimator=Ridge(),\n",
       "             param_grid={'alpha': [0, 1, 2, 4, 8, 16, 32, 64, 128],\n",
       "                         'copy_X': [True, False],\n",
       "                         'fit_intercept': [True, False],\n",
       "                         'normalize': [True, False]},\n",
       "             scoring='neg_mean_squared_error', verbose=1)"
      ]
     },
     "execution_count": 13,
     "metadata": {},
     "output_type": "execute_result"
    }
   ],
   "source": [
    "params = {\n",
    "    'fit_intercept': [True, False],\n",
    "    'normalize': [True, False],\n",
    "    'copy_X': [True, False],\n",
    "    'alpha': [0, 1, 2, 4, 8, 16, 32, 64, 128],\n",
    "}\n",
    "estimator=Ridge()\n",
    "ridge_model = GridSearchCV(estimator=estimator, param_grid=params\n",
    "                            , scoring='neg_mean_squared_error', cv=3, verbose=1)\n",
    "ridge_model.fit(X_train, y_train)"
   ]
  },
  {
   "cell_type": "code",
   "execution_count": 15,
   "metadata": {},
   "outputs": [
    {
     "name": "stdout",
     "output_type": "stream",
     "text": [
      "best_params_ {'alpha': 128, 'copy_X': True, 'fit_intercept': True, 'normalize': False}\n",
      "best_score_ -0.8581972122192383\n"
     ]
    }
   ],
   "source": [
    "print(\"best_params_\", ridge_model.best_params_)\n",
    "print(\"best_score_\", ridge_model.best_score_)"
   ]
  },
  {
   "cell_type": "code",
   "execution_count": 31,
   "metadata": {},
   "outputs": [],
   "source": [
    "submission = pd.read_csv('./sample_submission.csv')\n",
    "submission['item_cnt_month'] = ridge_model.predict(X_test).clip(0,20)\n",
    "submission[['ID', 'item_cnt_month']].to_csv('initial_ridge_submission.csv', index=False)"
   ]
  },
  {
   "cell_type": "code",
   "execution_count": null,
   "metadata": {},
   "outputs": [],
   "source": [
    "# 3. Ridge Regression\n",
    "\n",
    "from sklearn.linear_model import Ridge\n",
    "\n",
    "params = {\n",
    "    'fit_intercept': [True, False],\n",
    "    'normalize': [True, False],\n",
    "    'copy_X': [True, False],\n",
    "    'alpha': [0, 1, 2, 4, 8, 16, 32, 64, 128],\n",
    "}\n",
    "estimator=Ridge()\n",
    "ridge_model = GridSearchCV(estimator=estimator, param_grid=params\n",
    "                            , scoring='neg_mean_squared_error', cv=3, verbose=1)\n",
    "ridge_model.fit(X_train, y_train)\n",
    "\n",
    "print(\"best_params_\", ridge_model.best_params_)\n",
    "print(\"best_score_\", ridge_model.best_score_)\n",
    "\n",
    "submission = pd.read_csv('./sample_submission.csv')\n",
    "submission['item_cnt_month'] = ridge_model.predict(X_test).clip(0,20)\n",
    "submission[['ID', 'item_cnt_month']].to_csv('initial_ridge_submission.csv', index=False)"
   ]
  }
 ],
 "metadata": {
  "kernelspec": {
   "display_name": "Python 3",
   "language": "python",
   "name": "python3"
  },
  "language_info": {
   "codemirror_mode": {
    "name": "ipython",
    "version": 3
   },
   "file_extension": ".py",
   "mimetype": "text/x-python",
   "name": "python",
   "nbconvert_exporter": "python",
   "pygments_lexer": "ipython3",
   "version": "3.7.5"
  }
 },
 "nbformat": 4,
 "nbformat_minor": 4
}
